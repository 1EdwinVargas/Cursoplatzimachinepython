{
  "nbformat": 4,
  "nbformat_minor": 0,
  "metadata": {
    "colab": {
      "name": "CursoMACHINE.ipynb",
      "provenance": [],
      "collapsed_sections": [
        "KddU3SRFbz6f"
      ],
      "authorship_tag": "ABX9TyO8413WwchnvAawAojcd2hS",
      "include_colab_link": true
    },
    "kernelspec": {
      "name": "python3",
      "display_name": "Python 3"
    }
  },
  "cells": [
    {
      "cell_type": "markdown",
      "metadata": {
        "id": "view-in-github",
        "colab_type": "text"
      },
      "source": [
        "<a href=\"https://colab.research.google.com/github/1EdwinVargas/Cursoplatzimachinepython/blob/master/CursoMACHINE.ipynb\" target=\"_parent\"><img src=\"https://colab.research.google.com/assets/colab-badge.svg\" alt=\"Open In Colab\"/></a>"
      ]
    },
    {
      "cell_type": "code",
      "metadata": {
        "id": "m0iP6aA3F7GH",
        "colab_type": "code",
        "colab": {}
      },
      "source": [
        "import numpy as np\n",
        "import pandas as pd\n",
        "import matplotlib.pyplot as plt\n",
        "import sklearn"
      ],
      "execution_count": 0,
      "outputs": []
    },
    {
      "cell_type": "markdown",
      "metadata": {
        "id": "KddU3SRFbz6f",
        "colab_type": "text"
      },
      "source": [
        "### ***Dimension de un array***"
      ]
    },
    {
      "cell_type": "code",
      "metadata": {
        "id": "yHHyUtBjJm91",
        "colab_type": "code",
        "colab": {
          "base_uri": "https://localhost:8080/",
          "height": 35
        },
        "outputId": "e518f400-81bf-4a7a-db66-43d6b6cfa396"
      },
      "source": [
        "a1 = np.array([1,2,3]) # Transforma una lista en array\n",
        "type (a1)"
      ],
      "execution_count": 19,
      "outputs": [
        {
          "output_type": "execute_result",
          "data": {
            "text/plain": [
              "numpy.ndarray"
            ]
          },
          "metadata": {
            "tags": []
          },
          "execution_count": 19
        }
      ]
    },
    {
      "cell_type": "code",
      "metadata": {
        "id": "_AUAkb5IKI66",
        "colab_type": "code",
        "colab": {
          "base_uri": "https://localhost:8080/",
          "height": 35
        },
        "outputId": "158e55f6-896f-495d-9216-8d6c9e7cf87c"
      },
      "source": [
        "a2 = np.arange(10) # crea un range de lista tipo array \n",
        "a2 "
      ],
      "execution_count": 13,
      "outputs": [
        {
          "output_type": "execute_result",
          "data": {
            "text/plain": [
              "array([0, 1, 2, 3, 4, 5, 6, 7, 8, 9])"
            ]
          },
          "metadata": {
            "tags": []
          },
          "execution_count": 13
        }
      ]
    },
    {
      "cell_type": "code",
      "metadata": {
        "id": "r1XKBcnHKXfm",
        "colab_type": "code",
        "colab": {}
      },
      "source": [
        "a3 = np.zeros((3,3)) # crea un array lleno de ceros\n",
        "a4 = np.ones((3,3))  # crea un array lleno de unos"
      ],
      "execution_count": 0,
      "outputs": []
    },
    {
      "cell_type": "code",
      "metadata": {
        "id": "VYpd-C2qKvud",
        "colab_type": "code",
        "colab": {
          "base_uri": "https://localhost:8080/",
          "height": 127
        },
        "outputId": "56f42f7b-6113-4b52-cc35-9f234eb0da5f"
      },
      "source": [
        "from IPython.display import display  # esta funcion permite ver el tipo de la variable \"array\" \n",
        "display(a3);display(a4)"
      ],
      "execution_count": 24,
      "outputs": [
        {
          "output_type": "display_data",
          "data": {
            "text/plain": [
              "array([[0., 0.],\n",
              "       [0., 0.],\n",
              "       [0., 0.]])"
            ]
          },
          "metadata": {
            "tags": []
          }
        },
        {
          "output_type": "display_data",
          "data": {
            "text/plain": [
              "array([[1., 1., 1.],\n",
              "       [1., 1., 1.],\n",
              "       [1., 1., 1.]])"
            ]
          },
          "metadata": {
            "tags": []
          }
        }
      ]
    },
    {
      "cell_type": "markdown",
      "metadata": {
        "id": "vNQQRi1aLWe1",
        "colab_type": "text"
      },
      "source": [
        "np.linspace(a,b,n) es una funcion que permite crear arrays de una dimension , de largo n y que contiene puntos entre a y b distanciados de forma regular.la distancia entre cada punto sera de (b-a)/(n-1)"
      ]
    },
    {
      "cell_type": "code",
      "metadata": {
        "id": "aJuYYzDkWlYa",
        "colab_type": "code",
        "colab": {
          "base_uri": "https://localhost:8080/",
          "height": 72
        },
        "outputId": "9c7d6658-19dd-4fac-d8fe-7351e7bb499a"
      },
      "source": [
        "a5 = np.linspace(0,1,15)\n",
        "display (a5)"
      ],
      "execution_count": 34,
      "outputs": [
        {
          "output_type": "display_data",
          "data": {
            "text/plain": [
              "array([0.        , 0.07142857, 0.14285714, 0.21428571, 0.28571429,\n",
              "       0.35714286, 0.42857143, 0.5       , 0.57142857, 0.64285714,\n",
              "       0.71428571, 0.78571429, 0.85714286, 0.92857143, 1.        ])"
            ]
          },
          "metadata": {
            "tags": []
          }
        }
      ]
    },
    {
      "cell_type": "code",
      "metadata": {
        "id": "jMOuqkaOXkqz",
        "colab_type": "code",
        "colab": {
          "base_uri": "https://localhost:8080/",
          "height": 35
        },
        "outputId": "c7afd0da-2bdf-447b-e16e-c54658dde530"
      },
      "source": [
        "# dtypes\n",
        "a5.dtype"
      ],
      "execution_count": 35,
      "outputs": [
        {
          "output_type": "execute_result",
          "data": {
            "text/plain": [
              "dtype('float64')"
            ]
          },
          "metadata": {
            "tags": []
          },
          "execution_count": 35
        }
      ]
    },
    {
      "cell_type": "markdown",
      "metadata": {
        "id": "IKtqQDcbYvCt",
        "colab_type": "text"
      },
      "source": [
        "El comando Shape se usa para verificar u optener el tamaño o dimension del array "
      ]
    },
    {
      "cell_type": "code",
      "metadata": {
        "id": "PutEj3enYKyL",
        "colab_type": "code",
        "colab": {}
      },
      "source": [
        "a3.shape "
      ],
      "execution_count": 0,
      "outputs": []
    },
    {
      "cell_type": "code",
      "metadata": {
        "id": "CGLJJXm4Y8ze",
        "colab_type": "code",
        "colab": {
          "base_uri": "https://localhost:8080/",
          "height": 54
        },
        "outputId": "36e5f330-165e-4f7c-8ec2-c7238bac946c"
      },
      "source": [
        "a1D = np.array([1,2,3])\n",
        "a2D = np.array([[1,2,3]])\n",
        "display(a1D.shape)\n",
        "display(a2D.shape)"
      ],
      "execution_count": 42,
      "outputs": [
        {
          "output_type": "display_data",
          "data": {
            "text/plain": [
              "(3,)"
            ]
          },
          "metadata": {
            "tags": []
          }
        },
        {
          "output_type": "display_data",
          "data": {
            "text/plain": [
              "(1, 3)"
            ]
          },
          "metadata": {
            "tags": []
          }
        }
      ]
    },
    {
      "cell_type": "code",
      "metadata": {
        "id": "4nIWg2fPZ6U_",
        "colab_type": "code",
        "colab": {
          "base_uri": "https://localhost:8080/",
          "height": 35
        },
        "outputId": "3ca31ace-06c8-4249-ea0b-13ed8a01b4f2"
      },
      "source": [
        "# verificar si los dos array iguales\n",
        "np.array_equal(a1D,a2D)"
      ],
      "execution_count": 43,
      "outputs": [
        {
          "output_type": "execute_result",
          "data": {
            "text/plain": [
              "False"
            ]
          },
          "metadata": {
            "tags": []
          },
          "execution_count": 43
        }
      ]
    },
    {
      "cell_type": "code",
      "metadata": {
        "id": "jlDjXBQSaZKr",
        "colab_type": "code",
        "colab": {}
      },
      "source": [
        "# reshaping para cambiar el tamaño de los array no funciona con todos \n",
        "new_dims =(1,a1D.shape[0])\n",
        "a = a1D.reshape(new_dims)\n"
      ],
      "execution_count": 0,
      "outputs": []
    },
    {
      "cell_type": "markdown",
      "metadata": {
        "id": "Nw0NsvATbky5",
        "colab_type": "text"
      },
      "source": [
        "### ***Acceder a elementos y slicing***"
      ]
    },
    {
      "cell_type": "code",
      "metadata": {
        "id": "Bd3TVIR8bMCb",
        "colab_type": "code",
        "colab": {
          "base_uri": "https://localhost:8080/",
          "height": 72
        },
        "outputId": "2f4e7a5b-d529-4145-de8f-4a3e573adb8e"
      },
      "source": [
        "a = np.array([[1,0,3],[4,3,5],[6,10,-1]])\n",
        "a\n"
      ],
      "execution_count": 46,
      "outputs": [
        {
          "output_type": "execute_result",
          "data": {
            "text/plain": [
              "array([[ 1,  0,  3],\n",
              "       [ 4,  3,  5],\n",
              "       [ 6, 10, -1]])"
            ]
          },
          "metadata": {
            "tags": []
          },
          "execution_count": 46
        }
      ]
    },
    {
      "cell_type": "code",
      "metadata": {
        "id": "QFEt09DxcJHk",
        "colab_type": "code",
        "colab": {
          "base_uri": "https://localhost:8080/",
          "height": 35
        },
        "outputId": "86cd6101-5803-4e93-b999-160812950951"
      },
      "source": [
        "a[2,0]"
      ],
      "execution_count": 54,
      "outputs": [
        {
          "output_type": "execute_result",
          "data": {
            "text/plain": [
              "6"
            ]
          },
          "metadata": {
            "tags": []
          },
          "execution_count": 54
        }
      ]
    },
    {
      "cell_type": "code",
      "metadata": {
        "id": "IgI_njs_cmqe",
        "colab_type": "code",
        "colab": {
          "base_uri": "https://localhost:8080/",
          "height": 90
        },
        "outputId": "0ab8660f-ca8f-4f7c-b4f7-ed57cab0038a"
      },
      "source": [
        "a = np.arange(10)\n",
        "b = np.eye(3)\n",
        "display(a);display(b)"
      ],
      "execution_count": 56,
      "outputs": [
        {
          "output_type": "display_data",
          "data": {
            "text/plain": [
              "array([0, 1, 2, 3, 4, 5, 6, 7, 8, 9])"
            ]
          },
          "metadata": {
            "tags": []
          }
        },
        {
          "output_type": "display_data",
          "data": {
            "text/plain": [
              "array([[1., 0., 0.],\n",
              "       [0., 1., 0.],\n",
              "       [0., 0., 1.]])"
            ]
          },
          "metadata": {
            "tags": []
          }
        }
      ]
    },
    {
      "cell_type": "code",
      "metadata": {
        "id": "lKzh3U3odJxB",
        "colab_type": "code",
        "colab": {
          "base_uri": "https://localhost:8080/",
          "height": 35
        },
        "outputId": "c8f79bfc-9c88-407a-8840-030f05635f2d"
      },
      "source": [
        "a[:5]"
      ],
      "execution_count": 57,
      "outputs": [
        {
          "output_type": "execute_result",
          "data": {
            "text/plain": [
              "array([0, 1, 2, 3, 4])"
            ]
          },
          "metadata": {
            "tags": []
          },
          "execution_count": 57
        }
      ]
    },
    {
      "cell_type": "code",
      "metadata": {
        "id": "NOu7uN8ydYBN",
        "colab_type": "code",
        "colab": {
          "base_uri": "https://localhost:8080/",
          "height": 35
        },
        "outputId": "718c815b-d42a-4f69-bb5e-37c5ac1cfc94"
      },
      "source": [
        "b[0:3,2] #sintaxis para acceder a las filas"
      ],
      "execution_count": 61,
      "outputs": [
        {
          "output_type": "execute_result",
          "data": {
            "text/plain": [
              "array([0., 0., 1.])"
            ]
          },
          "metadata": {
            "tags": []
          },
          "execution_count": 61
        }
      ]
    },
    {
      "cell_type": "code",
      "metadata": {
        "id": "2o-bRvKVdl8b",
        "colab_type": "code",
        "colab": {
          "base_uri": "https://localhost:8080/",
          "height": 35
        },
        "outputId": "0e4738e6-770a-41fb-9c95-540e8a744ccc"
      },
      "source": [
        "b[2,0:3] # sintaxis para acceder a las colomnas"
      ],
      "execution_count": 59,
      "outputs": [
        {
          "output_type": "execute_result",
          "data": {
            "text/plain": [
              "array([0., 0., 1.])"
            ]
          },
          "metadata": {
            "tags": []
          },
          "execution_count": 59
        }
      ]
    },
    {
      "cell_type": "code",
      "metadata": {
        "id": "mgFG8xlEeFMi",
        "colab_type": "code",
        "colab": {
          "base_uri": "https://localhost:8080/",
          "height": 72
        },
        "outputId": "3f31ffc0-3207-4e09-bbd9-f8acfa29645e"
      },
      "source": [
        "b[:,:]"
      ],
      "execution_count": 62,
      "outputs": [
        {
          "output_type": "execute_result",
          "data": {
            "text/plain": [
              "array([[1., 0., 0.],\n",
              "       [0., 1., 0.],\n",
              "       [0., 0., 1.]])"
            ]
          },
          "metadata": {
            "tags": []
          },
          "execution_count": 62
        }
      ]
    },
    {
      "cell_type": "markdown",
      "metadata": {
        "id": "N_fAxPYhefRj",
        "colab_type": "text"
      },
      "source": [
        "### ***Operaciones con array **"
      ]
    },
    {
      "cell_type": "code",
      "metadata": {
        "id": "eIM1jcr8elS-",
        "colab_type": "code",
        "colab": {
          "base_uri": "https://localhost:8080/",
          "height": 182
        },
        "outputId": "defd7109-7ec8-4ad6-cbc6-d9177b22ad63"
      },
      "source": [
        "a = np.arange(4)\n",
        "a\n",
        "print(\"a     =\", a     )\n",
        "print(\"a + 5 =\", a + 5)\n",
        "print(\"a - 2 =\", a - 2)\n",
        "print(\"a * 2 =\", a * 2)\n",
        "print(\"a / 2 =\", a / 2)\n",
        "print(\"a// 2 =\", a //2)\n",
        "print(\"-a    =\", -a   )\n",
        "print(\"a **2 =\", a **2)\n",
        "print(\"a % 2 =\", a%  2)\n"
      ],
      "execution_count": 68,
      "outputs": [
        {
          "output_type": "stream",
          "text": [
            "a     = [0 1 2 3]\n",
            "a + 5 = [5 6 7 8]\n",
            "a - 2 = [-2 -1  0  1]\n",
            "a * 2 = [0 2 4 6]\n",
            "a / 2 = [0.  0.5 1.  1.5]\n",
            "a// 2 = [0 0 1 1]\n",
            "-a    = [ 0 -1 -2 -3]\n",
            "a **2 = [0 1 4 9]\n",
            "a % 2 = [0 1 0 1]\n"
          ],
          "name": "stdout"
        }
      ]
    }
  ]
}