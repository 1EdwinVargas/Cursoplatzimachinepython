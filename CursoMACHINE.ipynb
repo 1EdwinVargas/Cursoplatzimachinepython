{
  "nbformat": 4,
  "nbformat_minor": 0,
  "metadata": {
    "colab": {
      "name": "CursoMACHINE.ipynb",
      "provenance": [],
      "authorship_tag": "ABX9TyMC1Gr0Qg2Ywoy+FnjosdYH",
      "include_colab_link": true
    },
    "kernelspec": {
      "name": "python3",
      "display_name": "Python 3"
    }
  },
  "cells": [
    {
      "cell_type": "markdown",
      "metadata": {
        "id": "view-in-github",
        "colab_type": "text"
      },
      "source": [
        "<a href=\"https://colab.research.google.com/github/1EdwinVargas/Cursoplatzimachinepython/blob/master/CursoMACHINE.ipynb\" target=\"_parent\"><img src=\"https://colab.research.google.com/assets/colab-badge.svg\" alt=\"Open In Colab\"/></a>"
      ]
    },
    {
      "cell_type": "code",
      "metadata": {
        "id": "m0iP6aA3F7GH",
        "colab_type": "code",
        "colab": {}
      },
      "source": [
        "import numpy as np\n",
        "import pandas as pd\n",
        "import matplotlib.pyplot as plt\n",
        "import sklearn"
      ],
      "execution_count": 0,
      "outputs": []
    },
    {
      "cell_type": "code",
      "metadata": {
        "id": "yHHyUtBjJm91",
        "colab_type": "code",
        "colab": {
          "base_uri": "https://localhost:8080/",
          "height": 35
        },
        "outputId": "51561d4a-6b6a-4ff1-9602-6e02bb809043"
      },
      "source": [
        "a1 = np.array([1,2,3])\n",
        "type (a1)"
      ],
      "execution_count": 12,
      "outputs": [
        {
          "output_type": "execute_result",
          "data": {
            "text/plain": [
              "numpy.ndarray"
            ]
          },
          "metadata": {
            "tags": []
          },
          "execution_count": 12
        }
      ]
    },
    {
      "cell_type": "code",
      "metadata": {
        "id": "_AUAkb5IKI66",
        "colab_type": "code",
        "colab": {
          "base_uri": "https://localhost:8080/",
          "height": 35
        },
        "outputId": "158e55f6-896f-495d-9216-8d6c9e7cf87c"
      },
      "source": [
        "a2 = np.arange(10)\n",
        "a2 "
      ],
      "execution_count": 13,
      "outputs": [
        {
          "output_type": "execute_result",
          "data": {
            "text/plain": [
              "array([0, 1, 2, 3, 4, 5, 6, 7, 8, 9])"
            ]
          },
          "metadata": {
            "tags": []
          },
          "execution_count": 13
        }
      ]
    },
    {
      "cell_type": "code",
      "metadata": {
        "id": "r1XKBcnHKXfm",
        "colab_type": "code",
        "colab": {}
      },
      "source": [
        "a3 = np.zeros((3,3))\n",
        "a4 = np.ones((3,3))"
      ],
      "execution_count": 0,
      "outputs": []
    },
    {
      "cell_type": "code",
      "metadata": {
        "id": "VYpd-C2qKvud",
        "colab_type": "code",
        "colab": {
          "base_uri": "https://localhost:8080/",
          "height": 127
        },
        "outputId": "d45fed5f-b811-4a2c-dc71-df92832e7b08"
      },
      "source": [
        "from IPython.display import display\n",
        "display(a3);display(a4)\n",
        " "
      ],
      "execution_count": 18,
      "outputs": [
        {
          "output_type": "display_data",
          "data": {
            "text/plain": [
              "array([[0., 0., 0.],\n",
              "       [0., 0., 0.],\n",
              "       [0., 0., 0.]])"
            ]
          },
          "metadata": {
            "tags": []
          }
        },
        {
          "output_type": "display_data",
          "data": {
            "text/plain": [
              "array([[1., 1., 1.],\n",
              "       [1., 1., 1.],\n",
              "       [1., 1., 1.]])"
            ]
          },
          "metadata": {
            "tags": []
          }
        }
      ]
    },
    {
      "cell_type": "markdown",
      "metadata": {
        "id": "vNQQRi1aLWe1",
        "colab_type": "text"
      },
      "source": [
        "np.linspace(a,b,n) es una funcion que permite crear arrays de una dimension , de largo n y que contiene puntos entre a y b distanciados de forma regular.la distancia entre cada punto sera de (b-a)/(n-1)"
      ]
    }
  ]
}